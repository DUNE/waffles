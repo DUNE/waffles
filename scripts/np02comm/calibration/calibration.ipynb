{
 "cells": [
  {
   "cell_type": "code",
   "execution_count": null,
   "id": "019cba78-6dc7-406b-a9ea-f959eb3101d9",
   "metadata": {
    "editable": true,
    "slideshow": {
     "slide_type": ""
    },
    "tags": []
   },
   "outputs": [],
   "source": [
    "%load_ext autoreload\n",
    "%autoreload 2\n",
    "import waffles\n",
    "import numpy as np\n",
    "import json\n",
    "import shutil \n",
    "from tqdm import tqdm\n",
    "\n",
    "from waffles.input_output.hdf5_structured import load_structured_waveformset\n",
    "from waffles.data_classes.Waveform import Waveform\n",
    "from waffles.data_classes.WaveformSet import WaveformSet\n",
    "from waffles.data_classes.BasicWfAna import BasicWfAna\n",
    "from waffles.data_classes.IPDict import IPDict\n",
    "from waffles.data_classes.UniqueChannel import UniqueChannel\n",
    "from waffles.data_classes.ChannelWsGrid import ChannelWsGrid\n",
    "from waffles.utils.baseline.baseline import SBaseline\n",
    "from waffles.np02_utils.AutoMap import generate_ChannelMap, dict_uniqch_to_module, dict_module_to_uniqch\n",
    "from waffles.np02_utils.PlotUtils import np02_gen_grids, plot_grid, plot_detectors, genhist, fithist, runBasicWfAnaNP02"
   ]
  },
  {
   "cell_type": "code",
   "execution_count": null,
   "id": "ccd8ea6d-7379-4c91-adf9-c8b557478602",
   "metadata": {},
   "outputs": [],
   "source": [
    "dettype = \"membrane\"\n",
    "\n",
    "\n",
    "\n",
    "\n",
    "## Only change if necessary\n",
    "datadir = f\"/eos/experiment/neutplatform/protodune/experiments/ProtoDUNE-VD/commissioning/\"\n",
    "det = \"VD_Cathode_PDS\" if dettype == \"cathode\" else \"VD_Membrane_PDS\"\n",
    "endpoint = 106 if dettype == \"cathode\" else 107\n",
    "\n",
    "# Way to low... keep scrollng\n",
    "dletter = dettype.upper()[0] # C or M...\n",
    "group1 = [ f\"{dletter}{detnum}({chnum})\" for detnum in range(1, 3) for chnum in range(1,3) ]\n",
    "group2 = [ f\"{dletter}{detnum}({chnum})\" for detnum in range(3, 5) for chnum in range(1,3) ]\n",
    "group3 = [ f\"{dletter}{detnum}({chnum})\" for detnum in range(5, 7) for chnum in range(1,3) ]\n",
    "group4 = [ f\"{dletter}{detnum}({chnum})\" for detnum in range(7, 9) for chnum in range(1,3) ]\n",
    "groupLow = group1+group2\n",
    "groupHig = group3+group4\n",
    "groupall = group1+group2+group3+group4"
   ]
  },
  {
   "cell_type": "code",
   "execution_count": null,
   "id": "0e276b7c-0cdd-42ed-a7b6-381212807a43",
   "metadata": {},
   "outputs": [],
   "source": [
    "from glob import glob\n",
    "import copy\n",
    "def open_processed(run, dettype, output_dir, channels = None, endpoints=None, nwaveforms=None, mergefiles = False, verbose=True):\n",
    "    \"\"\"\n",
    "    Open the processed waveform set for a given run and detector type.\n",
    "    \"\"\"\n",
    "    try: \n",
    "        wfset = load_structured_waveformset(\n",
    "            f\"{output_dir}/processed/run{run:0d}_{dettype}/processed_merged_run{run:06d}_structured_{dettype}.hdf5\",\n",
    "            max_to_load=nwaveforms,\n",
    "            channels_filter=channels,\n",
    "            endpoint_filter=endpoints\n",
    "        )\n",
    "    except:\n",
    "        files = glob(f\"{output_dir}/processed/run{run:06d}_{dettype}/processed_*_run{run:06d}_*_{dettype}.hdf5\")\n",
    "        if verbose:\n",
    "            print(\"List of files found:\")\n",
    "            print(files)\n",
    "        if not mergefiles or len(files)==1:\n",
    "            files = files[0]\n",
    "            wfset = load_structured_waveformset(files, max_to_load=nwaveforms, channels_filter=channels, endpoint_filter=endpoints, verbose=verbose)\n",
    "        else: \n",
    "            wfset = load_structured_waveformset(files[0], max_to_load=nwaveforms, channels_filter= channels, endpoint_filter=endpoints, verbose=verbose)\n",
    "            for f in files[1:]:\n",
    "                tmpwf = load_structured_waveformset(f, max_to_load=nwaveforms, verbose=False)\n",
    "                wfset.merge(copy.deepcopy(tmpwf))\n",
    "    return wfset"
   ]
  },
  {
   "cell_type": "code",
   "execution_count": null,
   "id": "ef8bd1fc-b84a-415f-ad07-9b9d7a015758",
   "metadata": {
    "editable": true,
    "slideshow": {
     "slide_type": ""
    },
    "tags": []
   },
   "outputs": [],
   "source": [
    "run_to_module = {\n",
    "\n",
    "    \"membrane\" : {\n",
    "        38410 : [\"M3(1)\", \"M3(2)\", \"M4(1)\", \"M4(2)\"],\n",
    "        38400 : [\"M5(1)\"],\n",
    "        38399 : [\"M5(2)\"],\n",
    "        38398 : [\"M6(1)\", \"M6(2)\"],\n",
    "        38401 : [\"M7(1)\", \"M7(2)\"],\n",
    "        38402 : [\"M8(1)\", \"M8(2)\"],\n",
    "    },\n",
    "    \"cathode\" : {\n",
    "       38406  : [\"C1(1)\", \"C1(2)\" ],\n",
    "       38408  : [\"C2(1)\", \"C2(2)\"],\n",
    "       38403  : [\"C3(1)\", \"C3(2)\"],\n",
    "       38407  : [\"C4(1)\", \"C4(2)\"],\n",
    "       38405  : [\"C5(1)\", \"C5(2)\"],\n",
    "       38412  : [\"C6(1)\"],\n",
    "       38411  : [\"C6(2)\"],\n",
    "       38410  : [\"C7(1)\", \"C7(2)\"],\n",
    "       38409  : [\"C8(1)\", \"C8(2)\"],\n",
    "    }\n",
    "\n",
    "}\n",
    "run_to_module = run_to_module[dettype]\n",
    "\n",
    "run_to_unich = { r: [ dict_module_to_uniqch[m].channel for m in modules ] for r, modules in run_to_module.items() }\n",
    "channels = [ x for v in run_to_unich.values() for x in v]"
   ]
  },
  {
   "cell_type": "code",
   "execution_count": null,
   "id": "28529c0f-94a9-4198-ba84-a797bd418a12",
   "metadata": {
    "editable": true,
    "slideshow": {
     "slide_type": ""
    },
    "tags": []
   },
   "outputs": [],
   "source": [
    "import copy\n",
    "import time\n",
    "def select_channels(waveform: Waveform, channels: list) -> bool:\n",
    "    if waveform.channel not in channels:\n",
    "        return False\n",
    "    return True\n",
    "def create_wfset(run_to_unich, endpoint):\n",
    "\n",
    "    nwaveforms = None\n",
    "    wfset_full = None\n",
    "    for run, channels in run_to_unich.items():\n",
    "        wfset = open_processed(run, dettype, datadir, channels, [endpoint], nwaveforms=nwaveforms, verbose=True)\n",
    "        # wfset = WaveformSet.from_filtered_WaveformSet(wfset, select_channels, channels)\n",
    "        if wfset_full is None:\n",
    "            wfset_full = copy.deepcopy(wfset)\n",
    "        else:\n",
    "            wfset_full.merge(copy.deepcopy(wfset))\n",
    "        print(f\"Loaded run {run}\")\n",
    "    return wfset_full\n",
    "    \n",
    "start = time.time()\n",
    "wfset_full = create_wfset(run_to_unich, endpoint)\n",
    "end = time.time()\n",
    "print(end - start)"
   ]
  },
  {
   "cell_type": "code",
   "execution_count": null,
   "id": "b13c7fba-c897-4a90-bb8e-6b174b2a3d18",
   "metadata": {
    "editable": true,
    "slideshow": {
     "slide_type": ""
    },
    "tags": []
   },
   "outputs": [],
   "source": [
    "from pathlib import Path\n",
    "from datetime import datetime \n",
    "\n",
    "histargs = dict(    \n",
    "    # doprocess = False,\n",
    "    dofit = True,\n",
    "    show_progress = True,\n",
    ")\n",
    "setupargs=dict(\n",
    "# default 1300x1300\n",
    "    width=1300,\n",
    "    height=650,\n",
    "    showplots=True\n",
    ")\n",
    "htmlname = None\n",
    "\n",
    "timenow = datetime.now().strftime('%Y%m%d_%H%M%S') \n",
    "htmlname = Path(f\"./calibration_{dettype}_{timenow}.html\")\n",
    "\n",
    "# # Any detector can be processed alone if all were processed already\n",
    "# detector=group1\n",
    "# plot_detectors(wfset_full, detector, plot_function=fithist, html=None, wf_func=histargs)\n",
    "  \n",
    "# detector=[\"C6(1)\", \"C6(2)\"]\n",
    "# plot_detectors(wfset_full, detector, plot_function=fithist, html=None, wf_func=histargs)\n",
    "detector=groupLow\n",
    "plot_detectors(wfset_full, detector, plot_function=fithist, html=htmlname, wf_func=histargs, **setupargs)\n",
    "detector=groupHig\n",
    "plot_detectors(wfset_full, detector, plot_function=fithist, html=htmlname, wf_func=histargs, **setupargs)"
   ]
  },
  {
   "cell_type": "code",
   "execution_count": null,
   "id": "c1f513c8-c1c6-4606-be26-1c97355bcc43",
   "metadata": {},
   "outputs": [],
   "source": [
    "argsheat = dict(\n",
    "    mode=\"heatmap\",\n",
    "    analysis_label=\"std\",\n",
    "    adc_range_above_baseline=200,\n",
    "    adc_range_below_baseline=-50,\n",
    "    adc_bins=125,\n",
    "    time_bins=wfset_full.points_per_wf//2,\n",
    "    filtering=4,\n",
    "    share_y_scale=False,\n",
    "    share_x_scale=True,\n",
    "    wfs_per_axes=5000,\n",
    "    zlog=True,\n",
    "    width=1300,\n",
    "    higth=650\n",
    ")\n",
    "detector=groupLow\n",
    "plot_detectors(wfset_full, detector, **argsheat)\n",
    "\n",
    "detector=groupHig\n",
    "plot_detectors(wfset_full, detector, **argsheat)\n"
   ]
  }
 ],
 "metadata": {
  "kernelspec": {
   "display_name": "daqwaffles",
   "language": "python",
   "name": "daqwaffles"
  },
  "language_info": {
   "codemirror_mode": {
    "name": "ipython",
    "version": 3
   },
   "file_extension": ".py",
   "mimetype": "text/x-python",
   "name": "python",
   "nbconvert_exporter": "python",
   "pygments_lexer": "ipython3",
   "version": "3.10.4"
  }
 },
 "nbformat": 4,
 "nbformat_minor": 5
}
