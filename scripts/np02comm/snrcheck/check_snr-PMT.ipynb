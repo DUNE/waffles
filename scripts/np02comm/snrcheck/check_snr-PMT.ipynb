{
 "cells": [
  {
   "cell_type": "code",
   "execution_count": null,
   "id": "e6bf8cdc",
   "metadata": {},
   "outputs": [],
   "source": [
    "%load_ext autoreload\n",
    "%autoreload 2\n",
    "import waffles\n",
    "import numpy as np\n",
    "import json\n",
    "import shutil \n",
    "from tqdm import tqdm\n",
    "\n",
    "from waffles.input_output.hdf5_structured import load_structured_waveformset\n",
    "from waffles.data_classes.Waveform import Waveform\n",
    "from waffles.data_classes.WaveformSet import WaveformSet\n",
    "from waffles.data_classes.BasicWfAna import BasicWfAna\n",
    "from waffles.data_classes.IPDict import IPDict\n",
    "from waffles.data_classes.UniqueChannel import UniqueChannel\n",
    "from waffles.data_classes.ChannelWsGrid import ChannelWsGrid\n",
    "from waffles.utils.baseline.baseline import SBaseline\n",
    "from waffles.np02_utils.AutoMap import generate_ChannelMap, dict_uniqch_to_module, dict_module_to_uniqch\n",
    "from waffles.np02_utils.PlotUtils import np02_gen_grids, plot_grid, plot_detectors, genhist, fithist, runBasicWfAnaNP02\n",
    "from waffles.np02_utils.load_utils import open_processed"
   ]
  },
  {
   "cell_type": "code",
   "execution_count": null,
   "id": "835c129c",
   "metadata": {
    "editable": true,
    "slideshow": {
     "slide_type": ""
    },
    "tags": []
   },
   "outputs": [],
   "source": [
    "run = 39533\n",
    "nwaveforms = None\n",
    "dettype = \"pmt\"\n",
    "\n",
    "## Only change if necessary\n",
    "output_dir = f\"/eos/experiment/neutplatform/protodune/experiments/ProtoDUNE-VD/commissioning/\"\n",
    "ch = {}\n",
    "det = \"VD_PMT_PDS\" \n",
    "endpoint = 110\n",
    "trigger = \"self_trigger\""
   ]
  },
  {
   "cell_type": "code",
   "execution_count": null,
   "id": "2862f044-8230-454a-91f4-6c533c7726e5",
   "metadata": {
    "editable": true,
    "slideshow": {
     "slide_type": ""
    },
    "tags": []
   },
   "outputs": [],
   "source": [
    "wfset_full = open_processed(run, dettype, output_dir, nwaveforms=nwaveforms)\n",
    "wfset_full"
   ]
  },
  {
   "cell_type": "code",
   "execution_count": null,
   "id": "66f784db-f42e-44af-9f76-588362ea199a",
   "metadata": {},
   "outputs": [],
   "source": [
    "from collections import Counter\n",
    "timestamps = sorted([ wf.timestamp for wf in wfset_full.waveforms ])\n",
    "c = Counter(timestamps)\n",
    "print(f\"Total number of timestamps: {len(c)}\")\n",
    "matchtimestamps = [ k for k in c if c[k] >= 16]\n",
    "print(f\"Remaining timestamps: {len(matchtimestamps)}\")"
   ]
  },
  {
   "cell_type": "code",
   "execution_count": null,
   "id": "de1af6ee-cbbd-4cb3-aff7-e32210c3ea00",
   "metadata": {},
   "outputs": [],
   "source": [
    "def get_external(waveform: Waveform, validtimes = []) -> bool:\n",
    "    if np.any((waveform.adcs[0:500] > 16000) | (waveform.adcs[0:500] < 100) ):\n",
    "        return False\n",
    "    \n",
    "    return True\n",
    "\n",
    "matchingtimes = []\n",
    "print(wfset_full)\n",
    "wfset_full = WaveformSet.from_filtered_WaveformSet(wfset_full, get_external, matchtimestamps, show_progress=True)\n",
    "print(wfset_full)"
   ]
  },
  {
   "cell_type": "code",
   "execution_count": null,
   "id": "6f5c72a8-fc87-47f7-b759-f41a4454adb1",
   "metadata": {},
   "outputs": [],
   "source": [
    "runBasicWfAnaNP02(wfset_full, baselinefinish=240, onlyoptimal=True, threshold=25)"
   ]
  },
  {
   "cell_type": "code",
   "execution_count": null,
   "id": "e09748e0-56d8-48b4-b710-233a6490b9f1",
   "metadata": {},
   "outputs": [],
   "source": [
    "argsheat = dict(\n",
    "    mode=\"heatmap\",\n",
    "    analysis_label=\"std\",\n",
    "    adc_range_above_baseline=1000,\n",
    "    adc_range_below_baseline=-200,\n",
    "    adc_bins=200,\n",
    "    time_bins=wfset_full.points_per_wf//2,\n",
    "    filtering=4,\n",
    "    share_y_scale=False,\n",
    "    share_x_scale=True,\n",
    "    wfs_per_axes=5000,\n",
    "    zlog=True,\n",
    "    width=1600,\n",
    ")\n",
    "pmtuch = list(wfset_full.available_channels[run][110])\n",
    "detector=[ UniqueChannel(110, ch) for ch in pmtuch ]\n",
    "# plot_detectors(wfset_full, detector, plot_function=fithist, html=None, wf_func=histargs)\n",
    "plot_detectors(wfset_full, detector, **argsheat)\n",
    "          \n",
    "# detector=[ UniqueChannel(110, ch) for ch in pmtuch[:len(pmtuch)//2] ]\n",
    "# plot_detectors(wfset_full, detector, **argsheat)\n",
    "# detector=[ UniqueChannel(110, ch) for ch in pmtuch[len(pmtuch)//2:] ]\n",
    "# plot_detectors(wfset_full, detector, **argsheat)"
   ]
  },
  {
   "cell_type": "code",
   "execution_count": null,
   "id": "9ca64575-d577-44b6-9091-36c52307c622",
   "metadata": {},
   "outputs": [],
   "source": [
    "histargs = dict(    \n",
    "    doprocess = False,\n",
    "    dofit = True,\n",
    "    variable = 'integral',\n",
    "    show_progress = True,\n",
    "    configyaml=\"ch_snr_parameters_pmts.yaml\",\n",
    "    fitmultigauss=False,\n",
    "    log_y=True,\n",
    "    # normalize_hist=True,\n",
    ")\n",
    "argsplot = dict(\n",
    "    width=1600\n",
    ")\n",
    "pmtuch = list(wfset_full.available_channels[run][endpoint])\n",
    "# detector=[ UniqueChannel(110, ch) for ch in pmtuch ]\n",
    "# detector=[ UniqueChannel(endpoint, 12) ]\n",
    "\n",
    "detector=[ UniqueChannel(endpoint, ch) for ch in pmtuch[:len(pmtuch)//2] ]\n",
    "plot_detectors(wfset_full, detector, plot_function=fithist, wf_func=histargs, **argsplot)\n",
    "\n",
    "detector=[ UniqueChannel(endpoint, ch) for ch in pmtuch[len(pmtuch)//2:] ]\n",
    "plot_detectors(wfset_full, detector, plot_function=fithist, wf_func=histargs, **argsplot)"
   ]
  },
  {
   "cell_type": "code",
   "execution_count": null,
   "id": "afa60ee4-ecaa-4736-a709-f6e058d46896",
   "metadata": {},
   "outputs": [],
   "source": [
    "def remove_bad_baseline(waveform:Waveform) -> bool:\n",
    "    # comment the two lines below to not remove any waveform\n",
    "    if 'std' in waveform.analyses and waveform.analyses[\"std\"].result['amplitude'] is np.nan:\n",
    "        return False\n",
    "    return True\n",
    "    \n",
    "wfset = WaveformSet.from_filtered_WaveformSet(wfset_full, remove_bad_baseline)\n",
    "\n",
    "\n",
    "print(f\"After removing: {len(wfset.waveforms)} waveforms\")\n",
    "wfch_full = ChannelWsGrid.clusterize_waveform_set(wfset_full)\n",
    "wfch = ChannelWsGrid.clusterize_waveform_set(wfset)\n",
    "print(\"By channel..\")\n",
    "for ep, v in wfch.items():\n",
    "    print(\"Endpoint:\", ep)\n",
    "    for ch, wfs in v.items():\n",
    "        print(f\"Ch: {ch}, {len(wfs.waveforms)}, total: {len(wfch_full[ep][ch].waveforms)}\")"
   ]
  }
 ],
 "metadata": {
  "kernelspec": {
   "display_name": "daqwaffles",
   "language": "python",
   "name": "daqwaffles"
  },
  "language_info": {
   "codemirror_mode": {
    "name": "ipython",
    "version": 3
   },
   "file_extension": ".py",
   "mimetype": "text/x-python",
   "name": "python",
   "nbconvert_exporter": "python",
   "pygments_lexer": "ipython3",
   "version": "3.10.4"
  }
 },
 "nbformat": 4,
 "nbformat_minor": 5
}
