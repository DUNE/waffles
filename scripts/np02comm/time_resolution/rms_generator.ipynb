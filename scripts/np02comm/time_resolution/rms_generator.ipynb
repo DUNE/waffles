{
 "cells": [
  {
   "cell_type": "code",
   "execution_count": null,
   "id": "bff29ac9-02d4-4704-9a44-c1891c7cbe78",
   "metadata": {},
   "outputs": [],
   "source": [
    "%load_ext autoreload\n",
    "%autoreload 2\n",
    "import waffles\n",
    "import numpy as np\n",
    "import json\n",
    "import shutil \n",
    "from tqdm import tqdm\n",
    "\n",
    "from waffles.input_output.hdf5_structured import load_structured_waveformset\n",
    "from waffles.data_classes.Waveform import Waveform\n",
    "from waffles.data_classes.WaveformSet import WaveformSet\n",
    "from waffles.data_classes.BasicWfAna import BasicWfAna\n",
    "from waffles.data_classes.IPDict import IPDict\n",
    "from waffles.data_classes.UniqueChannel import UniqueChannel\n",
    "from waffles.data_classes.ChannelWsGrid import ChannelWsGrid\n",
    "from waffles.utils.baseline.baseline import SBaseline\n",
    "from waffles.np02_utils.AutoMap import generate_ChannelMap, dict_uniqch_to_module, dict_module_to_uniqch, ordered_channels_membrane, ordered_modules_membrane, strUch, ordered_channels_cathode\n",
    "from waffles.np02_utils.PlotUtils import np02_gen_grids, plot_grid, plot_detectors, genhist, fithist, runBasicWfAnaNP02, runBasicWfAnaNP02Updating\n",
    "from waffles.np02_utils.load_utils import open_processed"
   ]
  },
  {
   "cell_type": "code",
   "execution_count": null,
   "id": "b9052091-78fb-4dcf-a3b0-b7d9122916b2",
   "metadata": {},
   "outputs": [],
   "source": [
    "dettype = \"membrane\"\n",
    "# run = 39036\n",
    "\n",
    "# dettype = \"cathode\"\n",
    "run = 39033\n",
    "\n",
    "detectors = None # None for all detectors\n",
    "\n",
    "\n",
    "## Only change if necessary\n",
    "datadir = f\"/eos/experiment/neutplatform/protodune/experiments/ProtoDUNE-VD/commissioning/\"\n",
    "det = \"VD_Cathode_PDS\" if dettype == \"cathode\" else \"VD_Membrane_PDS\"\n",
    "endpoint = 106 if dettype == \"cathode\" else 107\n",
    "\n",
    "channels = None if detectors is None else [ uch.channel for m, uch in dict_module_to_uniqch.items() if m in detectors ]"
   ]
  },
  {
   "cell_type": "code",
   "execution_count": null,
   "id": "c8984b4d-55e1-4f2e-bf59-da3fb1c7e122",
   "metadata": {},
   "outputs": [],
   "source": [
    "from collections import Counter\n",
    "import copy\n",
    "import time\n",
    "def remove_weird_signals(waveform: Waveform) -> bool:\n",
    "    if np.any((waveform.adcs[0:500] > 16000) | (waveform.adcs[0:500] < 100) ):\n",
    "        return False\n",
    "    return True\n",
    "    \n",
    "nwaveforms = None\n",
    "wfset = open_processed(run, dettype, datadir, channels, [endpoint], nwaveforms=nwaveforms, verbose=True, mergefiles=False)\n",
    "wfset = WaveformSet.from_filtered_WaveformSet(wfset, remove_weird_signals, show_progress=True)\n",
    "    "
   ]
  },
  {
   "cell_type": "code",
   "execution_count": null,
   "id": "c4149316-ccdc-4981-a51d-f55fc9e400b5",
   "metadata": {},
   "outputs": [],
   "source": [
    "runBasicWfAnaNP02(wfset, threshold=20, baselinefinish = 240, onlyoptimal=False, configyaml=\"\")"
   ]
  },
  {
   "cell_type": "code",
   "execution_count": null,
   "id": "d7251259-b9a6-4362-b2db-bfb015ba67e2",
   "metadata": {},
   "outputs": [],
   "source": [
    "pretriggerfinish = 240\n",
    "def remove_signals_pretrigger(waveform: Waveform, ptfinish:int) -> bool:\n",
    "    if np.any(abs(waveform.adcs[:ptfinish] - waveform.analyses['std'].result['baseline']) > 50):\n",
    "        return False\n",
    "    return True\n",
    "\n",
    "wfset = WaveformSet.from_filtered_WaveformSet(wfset, remove_signals_pretrigger, pretriggerfinish, show_progress=True)\n",
    "    "
   ]
  },
  {
   "cell_type": "code",
   "execution_count": null,
   "id": "e52d8206-e54e-4923-a79b-dfb0051685fa",
   "metadata": {},
   "outputs": [],
   "source": [
    "wfch = ChannelWsGrid.clusterize_waveform_set(wfset)"
   ]
  },
  {
   "cell_type": "code",
   "execution_count": null,
   "id": "61d3c7ad-c071-4f0a-885b-eef3bd0a1a10",
   "metadata": {},
   "outputs": [],
   "source": [
    "print(wfch)\n",
    "print(len(wfset.waveforms))\n"
   ]
  },
  {
   "cell_type": "code",
   "execution_count": null,
   "id": "f5c78aba-263c-4640-b45f-7c5c02db7c66",
   "metadata": {},
   "outputs": [],
   "source": [
    "# Definition for RMS:\n",
    "quantile = [0.02, 0.98]\n",
    "\n",
    "f = open(f\"noise_results_file_{dettype}.csv\", \"w\")\n",
    "f.write(\"endpoint,channel,rms\\n\")\n",
    "chlist = ordered_channels_membrane if dettype == \"membrane\" else ordered_channels_cathode\n",
    "for ch in chlist:\n",
    "    ep = endpoint\n",
    "    if ch not in wfch[ep]:\n",
    "        continue\n",
    "    wfs = wfch[ep][ch]\n",
    "    print(ep, ch, 'nwaveforms:', len(wfs.waveforms))\n",
    "    adcsvals = np.ravel([ wf.adcs[:pretriggerfinish] - wf.analyses['std'].result['baseline'] for wf in wfs.waveforms ])\n",
    "    qlow, qhigh = np.quantile(adcsvals, quantile)\n",
    "    rms = np.std(adcsvals[ (adcsvals > qlow) & (adcsvals<qhigh) ])\n",
    "    # rms = np.std(adcsvals)\n",
    "    f.write(f\"{ep},{ch},{rms:.2f}\\n\")\n",
    "f.close()\n",
    "    \n",
    "    "
   ]
  },
  {
   "cell_type": "code",
   "execution_count": null,
   "id": "57d03687-aa80-4fbb-8e31-14d9dc70dec7",
   "metadata": {},
   "outputs": [],
   "source": []
  },
  {
   "cell_type": "code",
   "execution_count": null,
   "id": "27531430-2902-4b7d-819b-1365cc1d830a",
   "metadata": {},
   "outputs": [],
   "source": []
  }
 ],
 "metadata": {
  "kernelspec": {
   "display_name": "Python 3 (ipykernel)",
   "language": "python",
   "name": "python3"
  },
  "language_info": {
   "codemirror_mode": {
    "name": "ipython",
    "version": 3
   },
   "file_extension": ".py",
   "mimetype": "text/x-python",
   "name": "python",
   "nbconvert_exporter": "python",
   "pygments_lexer": "ipython3",
   "version": "3.10.4"
  }
 },
 "nbformat": 4,
 "nbformat_minor": 5
}
