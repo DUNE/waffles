{
 "cells": [
  {
   "cell_type": "code",
   "execution_count": null,
   "id": "4f6099f2-77da-4e4e-a916-ecd5f8756ad8",
   "metadata": {},
   "outputs": [],
   "source": [
    "%load_ext autoreload\n",
    "%autoreload 2\n",
    "import numpy as np\n",
    "import pandas as pd\n",
    "import matplotlib.pyplot as plt\n",
    "from mpl_toolkits.mplot3d import Axes3D\n",
    "import os\n",
    "import mplhep\n",
    "mplhep.style.use(mplhep.style.ROOT)\n",
    "plt.rcParams.update({'font.size': 16,\n",
    "                        'grid.linestyle': '--',\n",
    "                        'axes.grid': True,\n",
    "                        'figure.autolayout': True,\n",
    "                        'figure.figsize': [14,6]\n",
    "                        })\n",
    "\n",
    "from create_dataframe import create_df\n"
   ]
  },
  {
   "cell_type": "code",
   "execution_count": null,
   "id": "6f332c1d-eeaa-473d-bbba-df630dce1f06",
   "metadata": {},
   "outputs": [],
   "source": [
    "dfall = create_df(runs=[], blacklist=[39275, 39296] )\n",
    "with pd.option_context('display.max_rows', None, 'display.max_columns', None):  # more options can be specified also\n",
    "    display(dfall)"
   ]
  },
  {
   "cell_type": "code",
   "execution_count": null,
   "id": "4e06c893-99dc-4786-976f-2eb9de38b7bf",
   "metadata": {},
   "outputs": [],
   "source": [
    "runs = list(sorted(set(dfall['Run'].values)))"
   ]
  },
  {
   "cell_type": "code",
   "execution_count": null,
   "id": "1b5d8b05-0b7c-463b-b3e6-dad6f7f5fddd",
   "metadata": {},
   "outputs": [],
   "source": [
    "'''\n",
    "#peVSE\n",
    "'''\n",
    "\n",
    "#plot (expected linear)\n",
    "\n",
    "def make_plot(negative=False):\n",
    "    energy=[]\n",
    "    pe_sum_total=[]\n",
    "    pe_sum_HL=[]\n",
    "    pe_sum_HLx=[]\n",
    "    pe_sum_HxLx=[]\n",
    "    for run in runs:\n",
    "        dfrun = dfall.loc[dfall['Run'] == run]\n",
    "        entmp = dfrun['Energy'].values[0]\n",
    "        if not negative and entmp < 0:\n",
    "            continue\n",
    "        elif negative:\n",
    "            if entmp < 0:\n",
    "                entmp *= -1\n",
    "            else:\n",
    "                continue\n",
    "            \n",
    "        energy.append(entmp)\n",
    "        pe_sum_total.append(dfrun.loc[ dfrun['CH'] == 'total' ]['SUM'].values[0])\n",
    "        pe_sum_HL.append(dfrun.loc[ dfrun['CH'] == 'HL' ]['SUM'].values[0])\n",
    "        pe_sum_HLx.append(dfrun.loc[ dfrun['CH'] == 'HLx' ]['SUM'].values[0])\n",
    "        pe_sum_HxLx.append(dfrun.loc[ dfrun['CH'] == 'HxLx' ]['SUM'].values[0])\n",
    "    if not negative:\n",
    "        # plt.scatter(energy, pe_sum_total, color='mediumseagreen', label='Total - Positive', marker='.', s=80)\n",
    "        plt.scatter(energy, pe_sum_HL, color='mediumturquoise', label='HL - Positive', marker='.', s=140)\n",
    "        # plt.scatter(energy, pe_sum_HLx, color='lightcoral', label='HLx - Positive', marker='.', s=80)\n",
    "        # plt.scatter(energy, pe_sum_HxLx, color='darkviolet', label='HxLx - Positive', marker='.', s=80)\n",
    "    else:  \n",
    "        # plt.scatter(energy, pe_sum_total, color='mediumseagreen', marker=\"s\", s=80, edgecolors='gray', label='Total - Negative')\n",
    "        plt.scatter(energy, pe_sum_HL, color='mediumturquoise', marker=\"s\", s=80, edgecolors='gray', label='HL - Negative')\n",
    "        # plt.scatter(energy, pe_sum_HLx, color='lightcoral', marker=\"s\", s=80, edgecolors='gray', label='HLx - Negative')\n",
    "        # plt.scatter(energy, pe_sum_HxLx, color='darkviolet', marker=\"s\", s=80, edgecolors='gray', label='HxLx - Negative')\n",
    "    plt.legend(loc='best')\n",
    "    plt.xlabel('Energy [GeV]')\n",
    "    xticks = np.arange(np.floor(min(energy)*2)/2, np.ceil(max(energy)*2)/2 + 0.5, 0.5)\n",
    "    plt.xticks(xticks)\n",
    "    plt.ylabel('< #PE / event >')\n",
    "    \n",
    "plt.figure(figsize=(10,8))\n",
    "# plt.title('Total photoelectron detection'.format(run), fontweight='bold')\n",
    "plt.grid(color='gray', linestyle='-.', linewidth=0.5, alpha=0.5)\n",
    "make_plot(negative=True)\n",
    "make_plot(negative=False)\n",
    "\n",
    "# plt.savefig(\"modules_pe.png\")"
   ]
  }
 ],
 "metadata": {
  "kernelspec": {
   "display_name": "Python 3 (ipykernel)",
   "language": "python",
   "name": "python3"
  },
  "language_info": {
   "codemirror_mode": {
    "name": "ipython",
    "version": 3
   },
   "file_extension": ".py",
   "mimetype": "text/x-python",
   "name": "python",
   "nbconvert_exporter": "python",
   "pygments_lexer": "ipython3",
   "version": "3.10.4"
  }
 },
 "nbformat": 4,
 "nbformat_minor": 5
}
