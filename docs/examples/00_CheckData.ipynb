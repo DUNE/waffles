{
 "cells": [
  {
   "cell_type": "markdown",
   "metadata": {},
   "source": [
    "# QUICK DATA CHECK\n",
    "\n",
    "* Make sure that you have access to data files (have a look at some examples in `/eos/experiment/neutplatform/protodune/experiments/ProtoDUNE-II/PDS_Commissioning/waffles/0_TUTORIAL`)\n",
    "\n",
    "* If you want to analyze new data, you need to pre-process the decoder first to extract PDS information from the raw `hdf5` file provided by the data acquisition system. Have a look at the `00_HDF5toROOT` scripts for this."
   ]
  },
  {
   "cell_type": "markdown",
   "metadata": {},
   "source": [
    "# 1. Import the needed tools"
   ]
  },
  {
   "cell_type": "code",
   "execution_count": null,
   "metadata": {},
   "outputs": [],
   "source": [
    "# Import the needed waffles classes/functions\n",
    "from waffles.plotting.plot import plot_ChannelWsGrid\n",
    "import waffles.input_output.raw_root_reader as reader\n",
    "from waffles.data_classes.ChannelWsGrid import ChannelWsGrid\n",
    "\n",
    "# Import the needed waffles objects\n",
    "from waffles.np04_data.ProtoDUNE_HD_APA_maps import APA_map"
   ]
  },
  {
   "cell_type": "markdown",
   "metadata": {},
   "source": [
    "# 2. Read a WaveformSet object out of a ROOT file"
   ]
  },
  {
   "cell_type": "markdown",
   "metadata": {},
   "source": [
    "## 2.1. Option 1: Provide a filepath"
   ]
  },
  {
   "cell_type": "code",
   "execution_count": null,
   "metadata": {},
   "outputs": [],
   "source": [
    "# Variable to store the path to the ROOT file\n",
    "filepath = '/eos/experiment/neutplatform/protodune/experiments/ProtoDUNE-II/PDS_Commissioning/waffles/0_TUTORIAL/run26687.root'\n",
    "\n",
    "# Generate a WaveformSet from the ROOT file\n",
    "wfset = reader.WaveformSet_from_root_file(  \n",
    "    filepath,                               # path to the root file \n",
    "    'pyroot',                               # library to read (if ROOT, use 'pyroot', if not `uproot`)\n",
    "    read_full_streaming_data = False,       # if False, read the self-triggered data\n",
    "    truncate_wfs_to_minimum = False,        # truncate the waveforms to the minimum size\n",
    "    start_fraction = 0.25,                   # starting fraction for reading\n",
    "    stop_fraction = 0.75,                    # stoping fraction for reading\n",
    "    subsample = 2,                          # subsample the data reading (read every other entry)\n",
    "    verbose = True)                          "
   ]
  },
  {
   "cell_type": "markdown",
   "metadata": {},
   "source": [
    "## 2.2. Option 2: Provide a folderpath\n",
    "The reader will look for every root file in such folder, and merge all the data into one WaveformSet object"
   ]
  },
  {
   "cell_type": "code",
   "execution_count": null,
   "metadata": {},
   "outputs": [],
   "source": [
    "# Variable to store the path to the ROOT file\n",
    "folderpath = '/eos/experiment/neutplatform/protodune/experiments/ProtoDUNE-II/PDS_Commissioning/waffles/0_TUTORIAL'\n",
    "\n",
    "# Generate a WaveformSet from the ROOT files\n",
    "wfset = reader.WaveformSet_from_root_files( \n",
    "    'pyroot',\n",
    "    folderpath = folderpath,                # path to the folder where the ROOT files are stored\n",
    "    read_full_streaming_data = True,\n",
    "    truncate_wfs_to_minimum = False,\n",
    "    start_fraction = 0.0,\n",
    "    stop_fraction = 0.1,\n",
    "    subsample = 2,\n",
    "    verbose = True)"
   ]
  },
  {
   "cell_type": "markdown",
   "metadata": {},
   "source": [
    "# 3. Quick inspection of some general information"
   ]
  },
  {
   "cell_type": "code",
   "execution_count": null,
   "metadata": {},
   "outputs": [],
   "source": [
    "# You can have a look on the attributes of the object mywvfset (or any other object) by typing:\n",
    "\n",
    "help(wfset) # Help on the object and displays the documentation"
   ]
  },
  {
   "cell_type": "code",
   "execution_count": null,
   "metadata": {},
   "outputs": [],
   "source": [
    "# For example, you could display the number of waveforms in the waveform set:\n",
    "print(f\"Number of read waveforms: {len(wfset.waveforms)}\")\n",
    "\n",
    "# Or the number of points per waveform,\n",
    "print(f\"Number of points per waveform: {wfset.points_per_wf}\")\n",
    "\n",
    "# the ADCS array of the i-th waveform in the set,\n",
    "i = 500\n",
    "print(f\"ADCS array of the {i}-th waveform: {wfset.waveforms[i].adcs}\")\n",
    "\n",
    "# the endpoint and channel from which the i-th waveform in this set was acquired,\n",
    "print(f\"Endpoint: {wfset.waveforms[i].endpoint}, Channel: {wfset.waveforms[i].channel}\")\n",
    "\n",
    "# the number of the run(s) during which the waveforms in this waveform set were acquired,\n",
    "print(f\"Run number(s): {wfset.runs}\")\n",
    "\n",
    "# the endpoints and channels for which there's data in this waveform set,\n",
    "print(f\"Channels with available data per endpoint: {wfset.available_channels}\")"
   ]
  },
  {
   "cell_type": "code",
   "execution_count": null,
   "metadata": {},
   "outputs": [],
   "source": [
    "# You can check which APA data is available in the waveform set\n",
    "# by inspecting the output of WaveformSet.get_set_of_endpoints()\n",
    "\n",
    "set_of_endpoints = wfset.get_set_of_endpoints()\n",
    "apas = []\n",
    "\n",
    "if 104 in set_of_endpoints or 105 in set_of_endpoints or 107 in set_of_endpoints:\n",
    "    print(\"There is APA 1 info. in this waveformset.\")\n",
    "    apas.append('apa_1')\n",
    "if 109 in set_of_endpoints:\n",
    "    print(\"There is APA 2 info. in this waveformset.\")\n",
    "    apas.append('apa_2')\n",
    "if 111 in set_of_endpoints:\n",
    "    print(\"There is APA 3 info. in this waveformset.\")\n",
    "    apas.append('apa_3')\n",
    "if 112 in set_of_endpoints or 113 in set_of_endpoints:\n",
    "    print(\"There is APA 4 info. in this waveformset.\")\n",
    "    apas.append('apa_4')"
   ]
  },
  {
   "cell_type": "markdown",
   "metadata": {},
   "source": [
    "# 4. Plot an APA"
   ]
  },
  {
   "cell_type": "code",
   "execution_count": null,
   "metadata": {},
   "outputs": [],
   "source": [
    "# In wfset, which is an object of the WaveformSet class, all of the waveforms \n",
    "# are mixed together. By crafting a ChannelWsGrid object out of the wfset object, \n",
    "# the waveforms are ordered according to the physical layout of the given APA.\n",
    "\n",
    "# Select the APA number you want to plot\n",
    "apa_no = 3\n",
    "\n",
    "ordered_wfset = ChannelWsGrid(\n",
    "    APA_map[apa_no],\n",
    "    wfset)              # The WaveformSet object to be ordered"
   ]
  },
  {
   "cell_type": "code",
   "execution_count": null,
   "metadata": {},
   "outputs": [],
   "source": [
    "# Once the waveforms are physically order, we can plot them in a grid.\n",
    "\n",
    "wfs_per_axes = 10\n",
    "\n",
    "figure = plot_ChannelWsGrid( \n",
    "            ordered_wfset,              # The ordered waveform set\n",
    "            share_x_scale = True,\n",
    "            share_y_scale = True,\n",
    "            mode = 'overlay',\n",
    "            wfs_per_axes = wfs_per_axes,\n",
    "            verbose = True)\n",
    "\n",
    "figure.update_layout(   \n",
    "    width = 1100,\n",
    "    height= 1200,\n",
    "    showlegend = True,\n",
    "    title = {\n",
    "            'text': f\"{wfs_per_axes} waveforms per channel, for APA {apa_no}\",\n",
    "            'font': {\n",
    "                        'size': 24  # Specify the font size for the title\n",
    "                    }\n",
    "        },\n",
    "    )\n",
    "\n",
    "figure.show()"
   ]
  }
 ],
 "metadata": {
  "kernelspec": {
   "display_name": "Python 3 (ipykernel)",
   "language": "python",
   "name": "python3"
  },
  "language_info": {
   "codemirror_mode": {
    "name": "ipython",
    "version": 3
   },
   "file_extension": ".py",
   "mimetype": "text/x-python",
   "name": "python",
   "nbconvert_exporter": "python",
   "pygments_lexer": "ipython3",
   "version": "3.9.18"
  }
 },
 "nbformat": 4,
 "nbformat_minor": 2
}
