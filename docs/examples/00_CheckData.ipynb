{
 "cells": [
  {
   "cell_type": "markdown",
   "metadata": {},
   "source": [
    "# QUICK DATA CHECK\n",
    "\n",
    "* Make sure that you have access to data files (have a look at some examples in `/eos/experiment/neutplatform/protodune/experiments/ProtoDUNE-II/PDS_Commissioning/waffles/0_TUTORIAL`)\n",
    "\n",
    "* If you want to analyze new data, you need to pre-process the decoder first to extract PDS information from the raw `hdf5` file provided by the data acquisition system. Have a look at the `00_HDF5toROOT` scripts for this.\n",
    "\n"
   ]
  },
  {
   "cell_type": "code",
   "execution_count": null,
   "metadata": {},
   "outputs": [],
   "source": [
    "# IMPORT ALL THE LIBRARIES USED IN THE NOTEBOOK\n",
    "import plotly.graph_objects as pgo\n",
    "import plotly.subplots as psu\n",
    "import numpy as np\n",
    "from APAMaps import apas_map\n",
    "\n",
    "# IMPORT ALL THE CLASSES/METHODS DEFINED IN WAFFLES\n",
    "import waffles"
   ]
  },
  {
   "cell_type": "code",
   "execution_count": null,
   "metadata": {},
   "outputs": [],
   "source": [
    "filepath = '/eos/experiment/neutplatform/protodune/experiments/ProtoDUNE-II/PDS_Commissioning/waffles/0_TUTORIAL/run26687.root'\n",
    "\n",
    "wfset = waffles.WaveformSet.from_ROOT_file( filepath,                               # path to the root file \n",
    "                                            bulk_data_tree_name = 'raw_waveforms',  # 'raw_waveforms' branch from the root file\n",
    "                                            meta_data_tree_name = 'metadata',       # 'metadata' branch from the root file\n",
    "                                            set_offset_wrt_daq_window = False,      #\n",
    "                                            read_full_streaming_data = False,       # self-triggered (False) data\n",
    "                                            truncate_wfs_to_minimum = False,        # truncate the waveforms to the minimum size\n",
    "                                            start_fraction = 0.0,                   # starting fraction for reading\n",
    "                                            stop_fraction = 1.0,                    # stoping fraction for reading\n",
    "                                            library = 'pyroot',                     # library to read (if ROOT, use 'pyroot', if not `uproot`)\n",
    "                                            subsample = 2)                          # subsample the data reading (read each 2 entries)\n",
    "              \n",
    "\n",
    "# filtered_wfset = WaveformSet.from_filtered_WaveformSet( mywvfset,\n",
    "#                                                         WaveformSet.match_endpoint_and_channel,\n",
    "#                                                         111,\n",
    "#                                                         46)\n",
    "# filtered_wfset.Waveforms[i].Adcs"
   ]
  },
  {
   "cell_type": "code",
   "execution_count": null,
   "metadata": {},
   "outputs": [],
   "source": [
    "# You can have a look on the attributes of the object mywvfset (or any other object) by typing:\n",
    "\n",
    "help(wfset) # Help on the object and displays the documentation"
   ]
  },
  {
   "cell_type": "code",
   "execution_count": null,
   "metadata": {},
   "outputs": [],
   "source": [
    "# A naive example of how to access the wvfset attributes:\n",
    "\n",
    "print(f\"First wvf ADCs: {wfset.Waveforms[0].Adcs}\")\n",
    "print(f\"\\nNumber of points per wvf: {wfset.PointsPerWf}\")\n",
    "print(f\"\\nRuns: {wfset.Runs}\")\n",
    "print(f\"\\nRecords numbers per run(~events numbers): {wfset.RecordNumbers}\")\n",
    "print(f\"\\nChannels with available data per endpoint: {wfset.AvailableChannels}\")"
   ]
  },
  {
   "cell_type": "code",
   "execution_count": null,
   "metadata": {},
   "outputs": [],
   "source": [
    "# You can check which APA data is available in the waveformset by checking the keys of the dictionary:\n",
    "\n",
    "set_of_endpoints = wfset.get_set_of_endpoints()\n",
    "apas = []\n",
    "\n",
    "if 104 in set_of_endpoints or 105 in set_of_endpoints or 107 in set_of_endpoints:\n",
    "    print(\"There is APA 1 info. in this waveformset.\")\n",
    "    apas.append('apa_1')\n",
    "if 109 in set_of_endpoints:\n",
    "    print(\"There is APA 2 info. in this waveformset.\")\n",
    "    apas.append('apa_2')\n",
    "if 111 in set_of_endpoints:\n",
    "    print(\"There is APA 3 info. in this waveformset.\")\n",
    "    apas.append('apa_3')\n",
    "if 112 in set_of_endpoints or 113 in set_of_endpoints:\n",
    "    print(\"There is APA 4 info. in this waveformset.\")\n",
    "    apas.append('apa_4')"
   ]
  },
  {
   "cell_type": "code",
   "execution_count": null,
   "metadata": {},
   "outputs": [],
   "source": [
    "grid_apa_3 = waffles.ChannelWSGrid( apas_map['apa_3'],\n",
    "                                    wfset,\n",
    "                                    compute_calib_histo = False,\n",
    "                                    bins_number = 115,\n",
    "                                    domain = np.array((-10000., 50000.)),\n",
    "                                    variable = 'integral',\n",
    "                                    analysis_label = '')\n",
    "\n",
    "grid_apa_4 = waffles.ChannelWSGrid( apas_map['apa_4'],\n",
    "                                    wfset,\n",
    "                                    compute_calib_histo = False,\n",
    "                                    bins_number = 115,\n",
    "                                    domain = np.array((-10000., 50000.)),\n",
    "                                    variable = 'integral',\n",
    "                                    analysis_label = '')"
   ]
  },
  {
   "cell_type": "code",
   "execution_count": null,
   "metadata": {},
   "outputs": [],
   "source": [
    "title = 'APA3'\n",
    "\n",
    "figure = psu.make_subplots( rows = 10,\n",
    "                            cols = 4)\n",
    "\n",
    "grid_apa_3.plot(figure = figure,\n",
    "                share_x_scale = False,\n",
    "                share_y_scale = False,\n",
    "                mode = 'overlay',\n",
    "                wfs_per_axes = 2)\n",
    "\n",
    "figure.update_layout(   title = {\n",
    "                                    'text': title,\n",
    "                                    'font': {\n",
    "                                                'size': 24  # Specify the font size for the title\n",
    "                                            }\n",
    "                                },\n",
    "                        width = 1100,\n",
    "                        height = 1200,\n",
    "                        showlegend = True)\n",
    "\n",
    "figure.show()\n",
    "\n",
    "# figure.write_image(f\"{saving_filepath}/apa_3_NAME.png\")"
   ]
  },
  {
   "cell_type": "code",
   "execution_count": null,
   "metadata": {},
   "outputs": [],
   "source": [
    "title = 'APA4'\n",
    "\n",
    "figure = psu.make_subplots( rows = 10,\n",
    "                            cols = 4)\n",
    "\n",
    "grid_apa_4.plot(figure = figure,\n",
    "                share_x_scale = False,\n",
    "                share_y_scale = False,\n",
    "                mode = 'overlay',\n",
    "                wfs_per_axes = 2)\n",
    "\n",
    "figure.update_layout(   title = {\n",
    "                                    'text': title,\n",
    "                                    'font': {\n",
    "                                                'size': 24  # Specify the font size for the title\n",
    "                                            }\n",
    "                                },\n",
    "                        width = 1100,\n",
    "                        height = 1200,\n",
    "                        showlegend = True)\n",
    "\n",
    "figure.show()\n",
    "\n",
    "# figure.write_image(f\"{saving_filepath}/apa_4_NAME.png\")"
   ]
  }
 ],
 "metadata": {
  "kernelspec": {
   "display_name": "Python 3 (ipykernel)",
   "language": "python",
   "name": "python3"
  },
  "language_info": {
   "codemirror_mode": {
    "name": "ipython",
    "version": 3
   },
   "file_extension": ".py",
   "mimetype": "text/x-python",
   "name": "python",
   "nbconvert_exporter": "python",
   "pygments_lexer": "ipython3",
   "version": "3.9.18"
  }
 },
 "nbformat": 4,
 "nbformat_minor": 2
}
