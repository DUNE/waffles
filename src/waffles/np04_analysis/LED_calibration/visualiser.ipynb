{
 "cells": [
  {
   "cell_type": "markdown",
   "metadata": {},
   "source": [
    "# Import required tools"
   ]
  },
  {
   "cell_type": "code",
   "execution_count": null,
   "metadata": {
    "metadata": {}
   },
   "outputs": [],
   "source": [
    "import os\n",
    "import pickle\n",
    "import plotly.graph_objects as pgo"
   ]
  },
  {
   "cell_type": "markdown",
   "metadata": {},
   "source": [
    "# Load the dataframe"
   ]
  },
  {
   "cell_type": "code",
   "execution_count": null,
   "metadata": {},
   "outputs": [],
   "source": [
    "pickle_file_path = os.path.join(os.getcwd(), 'calibration_batches/batch_1/output.pkl')\n",
    "\n",
    "with open(pickle_file_path, \"rb\") as file:\n",
    "    df = pickle.load(file)"
   ]
  },
  {
   "cell_type": "markdown",
   "metadata": {},
   "source": [
    "# Set the input variables"
   ]
  },
  {
   "cell_type": "code",
   "execution_count": null,
   "metadata": {},
   "outputs": [],
   "source": [
    "apa_no = 1\n",
    "variable= 'gain'\n",
    "path_to_output_folderpath = ''\n",
    "\n",
    "if variable not in ['gain', 'snr']:\n",
    "    raise Exception('Either gain or snr must be selected')"
   ]
  },
  {
   "cell_type": "markdown",
   "metadata": {},
   "source": [
    "# Plot"
   ]
  },
  {
   "cell_type": "code",
   "execution_count": null,
   "metadata": {},
   "outputs": [],
   "source": [
    "pdes = [0.40, 0.45, 0.50]\n",
    "colors = ['black', 'green', 'red']\n",
    "symbols = ['circle', 'square', 'diamond']\n",
    "\n",
    "title = { 'gain' : f\"Gain per channel in APA {apa_no}\", \n",
    "          'snr' : f\"SNR per channel in APA {apa_no}\" }\n",
    "\n",
    "y_label = {'gain' : 'center[1] - center[0]',\n",
    "           'snr' : '(center[1]-center[0])/sqrt( std[0]**2  + std[1]**2 )'}"
   ]
  },
  {
   "cell_type": "code",
   "execution_count": null,
   "metadata": {},
   "outputs": [],
   "source": [
    "fig = pgo.Figure()\n",
    "\n",
    "for i in range(len(pdes)):\n",
    "\n",
    "    aux = df[(df['APA'] == apa_no) & (df['PDE'] == pdes[i])]\n",
    "\n",
    "    fig.add_trace(pgo.Scatter(  x = aux['channel_iterator'],\n",
    "                                y = aux[variable],\n",
    "                                mode = 'markers',\n",
    "                                marker = dict(  size = 5, \n",
    "                                                color = colors[i],\n",
    "                                                symbol = symbols[i]),\n",
    "                                name = f\"PDE = {pdes[i]}\"\n",
    "    ))\n",
    "\n",
    "fig.update_layout(\n",
    "    title = {\n",
    "                'text': title[variable],\n",
    "                'font': {'size': 18},\n",
    "            },\n",
    "    xaxis_title = 'Channel',\n",
    "    yaxis_title = y_label[variable],\n",
    "    width = 1000,\n",
    "    height=400,\n",
    ")\n",
    "\n",
    "aux = df[df['APA'] == apa_no]\n",
    "\n",
    "labels = {}\n",
    "for i in range(aux.shape[0]):\n",
    "    labels[aux.iloc[i]['channel_iterator']] = f\"{int(aux.iloc[i]['endpoint'])}-{int(aux.iloc[i]['channel'])}\"\n",
    "\n",
    "fig.update_layout(\n",
    "    xaxis = dict(   tickmode = 'array',\n",
    "                    tickvals = list(labels.keys()),\n",
    "                    ticktext = list(labels.values()),\n",
    "                    tickangle = 45,\n",
    "                ))\n",
    "\n",
    "fig.show()\n",
    "\n",
    "# fig.write_image(f\"{path_to_output_folderpath}/apa_{apa_no}_{variable}.png\")"
   ]
  }
 ],
 "metadata": {
  "kernelspec": {
   "display_name": "Python 3 (ipykernel)",
   "language": "python",
   "name": "python3"
  },
  "language_info": {
   "codemirror_mode": {
    "name": "ipython",
    "version": 3
   },
   "file_extension": ".py",
   "mimetype": "text/x-python",
   "name": "python",
   "nbconvert_exporter": "python",
   "pygments_lexer": "ipython3",
   "version": "3.12.3"
  }
 },
 "nbformat": 4,
 "nbformat_minor": 2
}
