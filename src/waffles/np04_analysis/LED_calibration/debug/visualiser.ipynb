{
 "cells": [
  {
   "cell_type": "markdown",
   "metadata": {},
   "source": [
    "# Import required tools"
   ]
  },
  {
   "cell_type": "code",
   "execution_count": 2,
   "metadata": {
    "metadata": {}
   },
   "outputs": [],
   "source": [
    "import os\n",
    "import pickle\n",
    "import datetime\n",
    "import numpy as np\n",
    "import pandas as pd\n",
    "import plotly.graph_objects as pgo\n",
    "import matplotlib.pyplot as plt\n",
    "\n",
    "import sys\n",
    "waffles_dir = '/Users/acervera/HEP/DUNE/ProtoDUNE-HD/PDS/data_taking/waffles'\n",
    "sys.path.append(waffles_dir+'/src') \n",
    "\n",
    "from waffles.np04_utils.utils import get_endpoint_and_channel\n",
    "from waffles.np04_analysis.LED_calibration.calibration_batches.metadata import metadata"
   ]
  },
  {
   "cell_type": "markdown",
   "metadata": {},
   "source": [
    "# Define some helper functions"
   ]
  },
  {
   "cell_type": "code",
   "execution_count": 3,
   "metadata": {},
   "outputs": [],
   "source": [
    "def compute_timestamp(day, month, year):\n",
    "    \"\"\"This function generates a timestamp from a date. \n",
    "    The date is given as three integer values which match \n",
    "    the day, the month and the year, respectively. The \n",
    "    timestamp is the number of seconds since \n",
    "    1970-01-01 00:00:00 UTC.\n",
    "    \n",
    "    \"\"\"\n",
    "    dt = datetime.datetime(year, month, day)\n",
    "    return dt.timestamp()\n",
    "\n",
    "def get_apa_foldername(measurements_batch, apa_no):\n",
    "    \"\"\"This function encapsulates the non-homogeneous \n",
    "    naming convention of the APA folders depending \n",
    "    on the measurements batch.\"\"\" \n",
    "\n",
    "    if measurements_batch not in [1, 2, 3]:\n",
    "        raise ValueError(f\"Measurements batch {measurements_batch} is not valid\")\n",
    "    \n",
    "    if apa_no not in [1, 2, 3, 4]:\n",
    "        raise ValueError(f\"APA number {apa_no} is not valid\")\n",
    "                         \n",
    "    if measurements_batch == 1:\n",
    "        if apa_no in [1, 2]:\n",
    "            return 'apas_12'\n",
    "        else:\n",
    "            return 'apas_34'\n",
    "        \n",
    "    if measurements_batch in [2, 3]:\n",
    "        if apa_no == 1:\n",
    "            return 'apa_1'\n",
    "        elif apa_no == 2:\n",
    "            return 'apa_2'\n",
    "        else:\n",
    "            return 'apas_34'"
   ]
  },
  {
   "cell_type": "markdown",
   "metadata": {},
   "source": [
    "# Set the input variables"
   ]
  },
  {
   "cell_type": "code",
   "execution_count": 10,
   "metadata": {},
   "outputs": [],
   "source": [
    "apa_nos = [2]\n",
    "batches = [2]\n",
    "variable = 'snr'\n",
    "showlegend = False\n",
    "\n",
    "input_base_folderpath = '/Users/acervera/HEP/DUNE/ProtoDUNE-HD/PDS/data_taking/waffles/src/waffles/np04_analysis/LED_calibration/calibration_batches'\n",
    "path_to_output_folderpath = ''\n",
    "\n",
    "if variable not in ['gain', 'snr']:\n",
    "    raise Exception('Either gain or snr must be selected')"
   ]
  },
  {
   "cell_type": "markdown",
   "metadata": {},
   "source": [
    "# Load the dataframe"
   ]
  },
  {
   "cell_type": "code",
   "execution_count": 11,
   "metadata": {},
   "outputs": [
    {
     "ename": "FileNotFoundError",
     "evalue": "[Errno 2] No such file or directory: '/Users/acervera/HEP/DUNE/ProtoDUNE-HD/PDS/data_taking/waffles/docs/examples/data/batch_2/output_pickles/LED_calibration_data.pkl'",
     "output_type": "error",
     "traceback": [
      "\u001b[0;31m---------------------------------------------------------------------------\u001b[0m",
      "\u001b[0;31mFileNotFoundError\u001b[0m                         Traceback (most recent call last)",
      "Cell \u001b[0;32mIn[11], line 9\u001b[0m\n\u001b[1;32m      3\u001b[0m \u001b[38;5;28;01mfor\u001b[39;00m batch \u001b[38;5;129;01min\u001b[39;00m batches:\n\u001b[1;32m      5\u001b[0m     aux_file_path \u001b[38;5;241m=\u001b[39m os\u001b[38;5;241m.\u001b[39mpath\u001b[38;5;241m.\u001b[39mjoin(\n\u001b[1;32m      6\u001b[0m         os\u001b[38;5;241m.\u001b[39mgetcwd(), \n\u001b[1;32m      7\u001b[0m         \u001b[38;5;124mf\u001b[39m\u001b[38;5;124m\"\u001b[39m\u001b[38;5;132;01m{\u001b[39;00minput_base_folderpath\u001b[38;5;132;01m}\u001b[39;00m\u001b[38;5;124m/batch_\u001b[39m\u001b[38;5;132;01m{\u001b[39;00mbatch\u001b[38;5;132;01m}\u001b[39;00m\u001b[38;5;124m/output_pickles/LED_calibration_data.pkl\u001b[39m\u001b[38;5;124m\"\u001b[39m)\n\u001b[0;32m----> 9\u001b[0m     \u001b[38;5;28;01mwith\u001b[39;00m \u001b[38;5;28;43mopen\u001b[39;49m\u001b[43m(\u001b[49m\u001b[43maux_file_path\u001b[49m\u001b[43m,\u001b[49m\u001b[43m \u001b[49m\u001b[38;5;124;43m\"\u001b[39;49m\u001b[38;5;124;43mrb\u001b[39;49m\u001b[38;5;124;43m\"\u001b[39;49m\u001b[43m)\u001b[49m \u001b[38;5;28;01mas\u001b[39;00m file:\n\u001b[1;32m     10\u001b[0m         dataframes[batch] \u001b[38;5;241m=\u001b[39m pickle\u001b[38;5;241m.\u001b[39mload(file)\n",
      "File \u001b[0;32m~/HEP/DUNE/ProtoDUNE-HD/PDS/data_taking/waffles_venv2/lib/python3.12/site-packages/IPython/core/interactiveshell.py:324\u001b[0m, in \u001b[0;36m_modified_open\u001b[0;34m(file, *args, **kwargs)\u001b[0m\n\u001b[1;32m    317\u001b[0m \u001b[38;5;28;01mif\u001b[39;00m file \u001b[38;5;129;01min\u001b[39;00m {\u001b[38;5;241m0\u001b[39m, \u001b[38;5;241m1\u001b[39m, \u001b[38;5;241m2\u001b[39m}:\n\u001b[1;32m    318\u001b[0m     \u001b[38;5;28;01mraise\u001b[39;00m \u001b[38;5;167;01mValueError\u001b[39;00m(\n\u001b[1;32m    319\u001b[0m         \u001b[38;5;124mf\u001b[39m\u001b[38;5;124m\"\u001b[39m\u001b[38;5;124mIPython won\u001b[39m\u001b[38;5;124m'\u001b[39m\u001b[38;5;124mt let you open fd=\u001b[39m\u001b[38;5;132;01m{\u001b[39;00mfile\u001b[38;5;132;01m}\u001b[39;00m\u001b[38;5;124m by default \u001b[39m\u001b[38;5;124m\"\u001b[39m\n\u001b[1;32m    320\u001b[0m         \u001b[38;5;124m\"\u001b[39m\u001b[38;5;124mas it is likely to crash IPython. If you know what you are doing, \u001b[39m\u001b[38;5;124m\"\u001b[39m\n\u001b[1;32m    321\u001b[0m         \u001b[38;5;124m\"\u001b[39m\u001b[38;5;124myou can use builtins\u001b[39m\u001b[38;5;124m'\u001b[39m\u001b[38;5;124m open.\u001b[39m\u001b[38;5;124m\"\u001b[39m\n\u001b[1;32m    322\u001b[0m     )\n\u001b[0;32m--> 324\u001b[0m \u001b[38;5;28;01mreturn\u001b[39;00m \u001b[43mio_open\u001b[49m\u001b[43m(\u001b[49m\u001b[43mfile\u001b[49m\u001b[43m,\u001b[49m\u001b[43m \u001b[49m\u001b[38;5;241;43m*\u001b[39;49m\u001b[43margs\u001b[49m\u001b[43m,\u001b[49m\u001b[43m \u001b[49m\u001b[38;5;241;43m*\u001b[39;49m\u001b[38;5;241;43m*\u001b[39;49m\u001b[43mkwargs\u001b[49m\u001b[43m)\u001b[49m\n",
      "\u001b[0;31mFileNotFoundError\u001b[0m: [Errno 2] No such file or directory: '/Users/acervera/HEP/DUNE/ProtoDUNE-HD/PDS/data_taking/waffles/docs/examples/data/batch_2/output_pickles/LED_calibration_data.pkl'"
     ]
    }
   ],
   "source": [
    "dataframes = {}\n",
    "\n",
    "for batch in batches:\n",
    "\n",
    "    aux_file_path = os.path.join(\n",
    "        os.getcwd(), \n",
    "        f\"{input_base_folderpath}/batch_{batch}/output_pickles/LED_calibration_data.pkl\")\n",
    "\n",
    "    with open(aux_file_path, \"rb\") as file:\n",
    "        dataframes[batch] = pickle.load(file)"
   ]
  },
  {
   "cell_type": "markdown",
   "metadata": {},
   "source": [
    "# Add 'batch' column and merge into single dataframe"
   ]
  },
  {
   "cell_type": "code",
   "execution_count": null,
   "metadata": {},
   "outputs": [],
   "source": [
    "for batch in dataframes.keys():\n",
    "\n",
    "    aux = [batch] * len(dataframes[batch])\n",
    "    dataframes[batch]['batch_no'] = aux\n",
    "    dataframes[batch]['batch_no'] = dataframes[batch]['batch_no'].astype(int)\n",
    "\n",
    "general_df = pd.concat(\n",
    "    list(dataframes.values()), \n",
    "    ignore_index=True)"
   ]
  },
  {
   "cell_type": "markdown",
   "metadata": {},
   "source": [
    "# Some input parameters for plots"
   ]
  },
  {
   "cell_type": "code",
   "execution_count": null,
   "metadata": {},
   "outputs": [],
   "source": [
    "pdes = [0.40, 0.45, 0.50]\n",
    "colors = {\n",
    "    0.4: 'black', \n",
    "    0.45: 'green', \n",
    "    0.5: 'red'}\n",
    "symbols = {\n",
    "    0.4: 'circle', \n",
    "    0.45: 'square',\n",
    "    0.5: 'diamond'}\n",
    "\n",
    "translator = {'gain': 'Gain', 'snr': 'SNR'}\n",
    "y_label = {'gain': 'center[1] - center[0]',\n",
    "           'snr': '(center[1]-center[0])/sqrt( std[0]**2  + std[1]**2 )'}"
   ]
  },
  {
   "cell_type": "markdown",
   "metadata": {},
   "source": [
    "# Batch-wise plots"
   ]
  },
  {
   "cell_type": "code",
   "execution_count": null,
   "metadata": {},
   "outputs": [],
   "source": [
    "for apa_no in apa_nos:\n",
    "\n",
    "    for i in range(len(batches)):\n",
    "        \n",
    "        batch_no = batches[i]\n",
    "\n",
    "        # Get the data for the given APA and batch\n",
    "        current_df = general_df[\n",
    "            (general_df['APA'] == apa_no) & \n",
    "            (general_df['batch_no'] == batch_no)]\n",
    "\n",
    "        fig = pgo.Figure()\n",
    "\n",
    "        for j in range(len(pdes)):\n",
    "\n",
    "            aux = current_df[current_df['PDE'] == pdes[j]]\n",
    "\n",
    "            fig.add_trace(pgo.Scatter(  \n",
    "                x=aux['channel_iterator'],\n",
    "                y=aux[variable],\n",
    "                mode='markers',\n",
    "                marker=dict(\n",
    "                    size=5, \n",
    "                    color=colors[pdes[j]],\n",
    "                    symbol=symbols[pdes[j]]),\n",
    "                name=f\"PDE = {pdes[j]}\",\n",
    "            ))\n",
    "\n",
    "        title = f\"{translator[variable]} per channel in APA {apa_no} - \"\\\n",
    "                f\"Batch {batch_no} ({metadata[batch_no]['date_year']}/\"\\\n",
    "                f\"{metadata[batch_no]['date_month']}/{metadata[batch_no]['date_day']}\"\\\n",
    "                f\")\"\n",
    "\n",
    "        fig.update_layout(\n",
    "            title={\n",
    "                    'text': title,\n",
    "                    'font': {'size': 18},\n",
    "                },\n",
    "            xaxis_title='Channel',\n",
    "            yaxis_title=y_label[variable],\n",
    "            width=1000,\n",
    "            height=400,\n",
    "            showlegend=True,\n",
    "        )\n",
    "\n",
    "        labels = {}\n",
    "        for j in range(current_df.shape[0]):\n",
    "            labels[current_df.iloc[j]['channel_iterator']] = f\"{int(current_df.iloc[j]['endpoint'])}-{int(current_df.iloc[j]['channel'])}\"\n",
    "\n",
    "        fig.update_layout(\n",
    "            xaxis = dict(   \n",
    "                tickmode='array',\n",
    "                tickvals=list(labels.keys()),\n",
    "                ticktext=list(labels.values()),\n",
    "                tickangle=45,\n",
    "            )\n",
    "        )\n",
    "\n",
    "        fig.show()\n",
    "        fig.write_image(f\"{path_to_output_folderpath}/batch_{batch_no}/{get_apa_foldername(batch_no, apa_no)}/general_plots/apa_{apa_no}_clustered_{variable}s.png\")"
   ]
  },
  {
   "cell_type": "markdown",
   "metadata": {},
   "source": [
    "# Prepare the data for the plot against time"
   ]
  },
  {
   "cell_type": "code",
   "execution_count": null,
   "metadata": {},
   "outputs": [],
   "source": [
    "time = [ compute_timestamp(\n",
    "    metadata[batch_no]['date_day'], \n",
    "    metadata[batch_no]['date_month'], \n",
    "    metadata[batch_no]['date_year']) for batch_no in batches ]\n",
    "\n",
    "time_labels = [\n",
    "    f\"{metadata[batch_no]['date_year']}/\"\n",
    "    f\"{metadata[batch_no]['date_month']}/\"\n",
    "    f\"{metadata[batch_no]['date_day']}\" for batch_no in batches ]"
   ]
  },
  {
   "cell_type": "code",
   "execution_count": null,
   "metadata": {},
   "outputs": [],
   "source": [
    "data = {}\n",
    "\n",
    "for apa_no in apa_nos:\n",
    "\n",
    "    data[apa_no] = {}\n",
    "\n",
    "    for i in range(len(pdes)):\n",
    "        \n",
    "        current_df = general_df[\n",
    "            (general_df['APA'] == apa_no) &\n",
    "            (general_df['PDE'] == pdes[i])]\n",
    "        \n",
    "        data[apa_no][pdes[i]] = {}\n",
    "\n",
    "        possible_channel_iterators = current_df['channel_iterator'].unique()\n",
    "        \n",
    "        for channel_iterator in possible_channel_iterators:\n",
    "            \n",
    "            aux = current_df[current_df['channel_iterator'] == channel_iterator]\n",
    "            time_ordered_values_of_variable = []\n",
    "\n",
    "            # Here's why the data is ordered by batch number, i.e. ordered by time\n",
    "            for batch_no in batches:\n",
    "\n",
    "                aux2 = aux[aux['batch_no'] == batch_no]\n",
    "                if len(aux2) == 0:\n",
    "                    print(f\"Warning: Found no entry for APA {apa_no}, PDE {pdes[i]}, batch {batch_no} and channel iterator {channel_iterator}.\")\n",
    "                elif len(aux2) == 1:\n",
    "                    time_ordered_values_of_variable.append(\n",
    "                        aux2[variable].values[0])\n",
    "                else:\n",
    "                    raise Exception(f\"Found more than one entry for APA {apa_no}, PDE {pdes[i]}, batch {batch_no} and channel iterator {channel_iterator}.\")\n",
    "                    \n",
    "            data[apa_no][pdes[i]][channel_iterator] = time_ordered_values_of_variable"
   ]
  },
  {
   "cell_type": "markdown",
   "metadata": {},
   "source": [
    "# Plot against time, apa-wise"
   ]
  },
  {
   "cell_type": "code",
   "execution_count": null,
   "metadata": {},
   "outputs": [],
   "source": [
    "for apa_no in data.keys():\n",
    "    \n",
    "    fig = pgo.Figure()\n",
    "\n",
    "    for pde in data[apa_no].keys():\n",
    "\n",
    "        for channel_iterator in data[apa_no][pde].keys():\n",
    "\n",
    "            unique_channel = get_endpoint_and_channel(\n",
    "                apa_no, \n",
    "                channel_iterator)\n",
    "\n",
    "            fig.add_trace(\n",
    "                pgo.Scatter(\n",
    "                    x=time,\n",
    "                    y=data[apa_no][pde][channel_iterator],\n",
    "                    mode='lines+markers',\n",
    "                    name=f\"PDE = {pde}, channel {unique_channel}\",\n",
    "                    line=dict(\n",
    "                        color=colors[pde],\n",
    "                        width=0.5),\n",
    "                    marker=dict(\n",
    "                        size=5,\n",
    "                        color=colors[pde],\n",
    "                        symbol=symbols[pde])\n",
    "                )\n",
    "            )\n",
    "            \n",
    "    title = f\"{translator[variable]} per channel in APA {apa_no}\"\n",
    "\n",
    "    fig.update_layout(\n",
    "        title = {\n",
    "                    'text': title,\n",
    "                    'font': {'size': 18},\n",
    "                },\n",
    "        #xaxis_title='Time',\n",
    "        yaxis_title=y_label[variable],\n",
    "        width=800,\n",
    "        height=400,\n",
    "    )\n",
    "\n",
    "    fig.update_layout(\n",
    "        xaxis=dict( \n",
    "            tickmode='array',\n",
    "            tickvals=time,\n",
    "            ticktext=time_labels,\n",
    "            tickangle=15,\n",
    "            tickfont=dict(size=16)\n",
    "        ),\n",
    "        showlegend=showlegend\n",
    "    )\n",
    "            \n",
    "    fig.show()\n",
    "    fig.write_image(f\"{path_to_output_folderpath}/general_plots/apa_{apa_no}_{variable}s_with_time.png\")\n",
    "\n",
    "            "
   ]
  },
  {
   "cell_type": "markdown",
   "metadata": {},
   "source": [
    "# Plot against time, pde-wise"
   ]
  },
  {
   "cell_type": "code",
   "execution_count": null,
   "metadata": {},
   "outputs": [],
   "source": [
    "for apa_no in data.keys():\n",
    "\n",
    "    for pde in data[apa_no].keys():\n",
    "\n",
    "        fig = pgo.Figure()\n",
    "\n",
    "        for channel_iterator in data[apa_no][pde].keys():\n",
    "\n",
    "            unique_channel = get_endpoint_and_channel(\n",
    "                apa_no, \n",
    "                channel_iterator)\n",
    "\n",
    "            fig.add_trace(\n",
    "                pgo.Scatter(\n",
    "                    x=time,\n",
    "                    y=data[apa_no][pde][channel_iterator],\n",
    "                    mode='lines+markers',\n",
    "                    name=f\"PDE = {pde}, channel {unique_channel}\",\n",
    "                    line=dict(\n",
    "                        color=colors[pde],\n",
    "                        width=0.5),\n",
    "                    marker=dict(\n",
    "                        size=5,\n",
    "                        color=colors[pde],\n",
    "                        symbol=symbols[pde])\n",
    "                )\n",
    "            )\n",
    "            \n",
    "        title = f\"{translator[variable]} per channel in APA {apa_no}\"\\\n",
    "                f\" - PDE {pde}\"\n",
    "\n",
    "        fig.update_layout(\n",
    "            title={\n",
    "                    'text': title,\n",
    "                    'font': {'size': 18},\n",
    "                    },\n",
    "            xaxis_title='Time',\n",
    "            yaxis_title=y_label[variable],\n",
    "            width = 800,\n",
    "            height=400,\n",
    "        )\n",
    "\n",
    "        fig.update_layout(\n",
    "            xaxis=dict( \n",
    "                tickmode='array',\n",
    "                tickvals=time,\n",
    "                ticktext=time_labels,\n",
    "                tickangle=15,\n",
    "                tickfont=dict(size=16)\n",
    "            ),\n",
    "            showlegend=showlegend\n",
    "        )\n",
    "                \n",
    "        fig.show()"
   ]
  },
  {
   "cell_type": "markdown",
   "metadata": {},
   "source": [
    "# Std histograms, pde-wise"
   ]
  },
  {
   "cell_type": "code",
   "execution_count": null,
   "metadata": {},
   "outputs": [],
   "source": [
    "bin_width = 20 if variable == 'gain' else 0.1\n",
    "\n",
    "fig, axes = plt.subplots(\n",
    "    nrows=1,\n",
    "    ncols=len(apa_nos),\n",
    "    figsize=(15, 5)\n",
    ")\n",
    "\n",
    "i = 0\n",
    "\n",
    "for apa_no in data.keys():\n",
    "\n",
    "    for pde in data[apa_no].keys():\n",
    "\n",
    "        samples = []\n",
    "        \n",
    "        for channel_iterator in data[apa_no][pde].keys():\n",
    "\n",
    "            samples.append(np.std(data[apa_no][pde][channel_iterator]))\n",
    "\n",
    "        samples = np.array(samples)\n",
    "\n",
    "        axes[i].hist(\n",
    "            samples, \n",
    "            bins=int((samples.max()-samples.min())/bin_width)+1,\n",
    "            histtype=\"step\", \n",
    "            color=colors[pde], \n",
    "            label=f\"PDE = {pde}\")\n",
    "        \n",
    "        axes[i].set_xlabel(y_label[variable])\n",
    "        \n",
    "        axes[i].legend(\n",
    "            fontsize = 15\n",
    "        )\n",
    "\n",
    "        axes[i].grid()\n",
    "        \n",
    "    axes[i].set_title(f\"APA {apa_no}\")\n",
    "    \n",
    "    i += 1\n",
    "            \n",
    "title = f\"{translator[variable]} STD (over time)\"\n",
    "\n",
    "fig.suptitle(title, fontsize=16)\n",
    "plt.tight_layout()\n",
    "plt.show()"
   ]
  }
 ],
 "metadata": {
  "kernelspec": {
   "display_name": "waffles_venv2",
   "language": "python",
   "name": "python3"
  },
  "language_info": {
   "codemirror_mode": {
    "name": "ipython",
    "version": 3
   },
   "file_extension": ".py",
   "mimetype": "text/x-python",
   "name": "python",
   "nbconvert_exporter": "python",
   "pygments_lexer": "ipython3",
   "version": "3.12.4"
  }
 },
 "nbformat": 4,
 "nbformat_minor": 2
}
